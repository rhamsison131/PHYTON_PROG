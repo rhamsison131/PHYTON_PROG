{
 "cells": [
  {
   "cell_type": "code",
   "execution_count": 1,
   "id": "50d07b1c-49c0-4427-8968-e09cbfde65f0",
   "metadata": {},
   "outputs": [
    {
     "name": "stdout",
     "output_type": "stream",
     "text": [
      "1. Convert to lowercase:\n",
      "animals\n",
      "badger\n",
      "honey bee\n",
      "honeybadger\n"
     ]
    }
   ],
   "source": [
    "print(\"1. Convert to lowercase:\")\n",
    "strings = [\"Animals\", \"Badger\", \"Honey Bee\", \"Honeybadger\"]\n",
    "for s in strings:\n",
    "    print(s.lower())\n"
   ]
  },
  {
   "cell_type": "code",
   "execution_count": 2,
   "id": "2c258ab1-5d31-47f5-9cde-3bb8b26d371d",
   "metadata": {},
   "outputs": [
    {
     "name": "stdout",
     "output_type": "stream",
     "text": [
      "\n",
      "2. Convert to uppercase:\n",
      "ANIMALS\n",
      "BADGER\n",
      "HONEY BEE\n",
      "HONEYBADGER\n"
     ]
    }
   ],
   "source": [
    "print(\"\\n2. Convert to uppercase:\")\n",
    "for s in strings:\n",
    "    print(s.upper())"
   ]
  },
  {
   "cell_type": "code",
   "execution_count": 3,
   "id": "ebd1f81b-a488-4bb7-ae72-5389dd450721",
   "metadata": {},
   "outputs": [
    {
     "name": "stdout",
     "output_type": "stream",
     "text": [
      "\n",
      "3. Remove whitespace:\n",
      "Filet Mignon\n",
      "Brisket\n"
     ]
    }
   ],
   "source": [
    "print(\"\\n3. Remove whitespace:\")\n",
    "string1 = \" Filet Mignon\"\n",
    "string2 = \"Brisket \"\n",
    "print(string1.strip())\n",
    "print(string2.strip())"
   ]
  },
  {
   "cell_type": "code",
   "execution_count": 4,
   "id": "b9fc390d-523a-4efa-b84d-a5e819f36f5d",
   "metadata": {},
   "outputs": [
    {
     "name": "stdout",
     "output_type": "stream",
     "text": [
      "\n",
      "4. .startswith('be') check:\n",
      "False\n",
      "True\n"
     ]
    }
   ],
   "source": [
    "print(\"\\n4. .startswith('be') check:\")\n",
    "string1 = \"Becomes\"\n",
    "string2 = \"becomes\"\n",
    "print(string1.startswith(\"be\"))\n",
    "print(string2.startswith(\"be\"))\n"
   ]
  },
  {
   "cell_type": "code",
   "execution_count": 5,
   "id": "07b62276-2ddb-4e2a-b646-47be1dc18fd9",
   "metadata": {},
   "outputs": [
    {
     "name": "stdout",
     "output_type": "stream",
     "text": [
      "\n",
      "5. Modify strings so .startswith('be') is True:\n",
      "True\n",
      "True\n"
     ]
    }
   ],
   "source": [
    "print(\"\\n5. Modify strings so .startswith('be') is True:\")\n",
    "modified1 = string1.lower()\n",
    "modified2 = string2  \n",
    "print(modified1.startswith(\"be\"))\n",
    "print(modified2.startswith(\"be\"))"
   ]
  },
  {
   "cell_type": "code",
   "execution_count": 6,
   "id": "f39c0b80-af4f-4e4a-a5a7-64c2664797d2",
   "metadata": {},
   "outputs": [
    {
     "name": "stdin",
     "output_type": "stream",
     "text": [
      "Enter something:  a\n"
     ]
    },
    {
     "name": "stdout",
     "output_type": "stream",
     "text": [
      "You entered: a\n"
     ]
    }
   ],
   "source": [
    "user_input = input(\"Enter something: \")\n",
    "print(\"You entered:\", user_input)"
   ]
  },
  {
   "cell_type": "code",
   "execution_count": 7,
   "id": "74cac8f1-3854-4e9c-87ac-03e8e9cece2f",
   "metadata": {},
   "outputs": [
    {
     "name": "stdin",
     "output_type": "stream",
     "text": [
      "Enter something:  a\n"
     ]
    },
    {
     "name": "stdout",
     "output_type": "stream",
     "text": [
      "In lowercase: a\n"
     ]
    }
   ],
   "source": [
    "user_input = input(\"Enter something: \")\n",
    "print(\"In lowercase:\", user_input.lower())"
   ]
  },
  {
   "cell_type": "code",
   "execution_count": 8,
   "id": "bdb7ee34-8b42-40e2-a191-6e2c46305d21",
   "metadata": {},
   "outputs": [
    {
     "name": "stdin",
     "output_type": "stream",
     "text": [
      "Enter something:  asdasf\n"
     ]
    },
    {
     "name": "stdout",
     "output_type": "stream",
     "text": [
      "Number of characters: 6\n"
     ]
    }
   ],
   "source": [
    "user_input = input(\"Enter something: \")\n",
    "print(\"Number of characters:\", len(user_input))\n"
   ]
  },
  {
   "cell_type": "code",
   "execution_count": 9,
   "id": "c013c4ef-ab7b-4f73-acb0-bc3825520bc8",
   "metadata": {},
   "outputs": [
    {
     "name": "stdin",
     "output_type": "stream",
     "text": [
      "Tell me your name:  dagul\n"
     ]
    },
    {
     "name": "stdout",
     "output_type": "stream",
     "text": [
      "The first letter of your name is: D\n"
     ]
    }
   ],
   "source": [
    "name = input(\"Tell me your name: \")\n",
    "if name:\n",
    "    first_letter = name[0].upper()\n",
    "    print(\"The first letter of your name is:\", first_letter)\n",
    "else:\n",
    "    print(\"You didn't enter a name.\")\n"
   ]
  },
  {
   "cell_type": "code",
   "execution_count": 10,
   "id": "fd8727ef-9c90-4d94-abbe-1397ecf517a4",
   "metadata": {},
   "outputs": [
    {
     "name": "stdout",
     "output_type": "stream",
     "text": [
      "Result: 84\n"
     ]
    }
   ],
   "source": [
    "num_str = \"42\"\n",
    "num_int = int(num_str)\n",
    "result = num_int * 2\n",
    "print(\"Result:\", result)"
   ]
  },
  {
   "cell_type": "code",
   "execution_count": 11,
   "id": "279378d1-fa7b-4cff-85c8-0767af610190",
   "metadata": {},
   "outputs": [
    {
     "name": "stdout",
     "output_type": "stream",
     "text": [
      "Result: 6.28\n"
     ]
    }
   ],
   "source": [
    "num_str = \"3.14\"\n",
    "num_float = float(num_str)\n",
    "result = num_float * 2\n",
    "print(\"Result:\", result)"
   ]
  },
  {
   "cell_type": "code",
   "execution_count": 12,
   "id": "81a03d5a-748a-4162-beb0-1f826e23bdd3",
   "metadata": {},
   "outputs": [
    {
     "name": "stdout",
     "output_type": "stream",
     "text": [
      "Hello 123\n"
     ]
    }
   ],
   "source": [
    "my_string = \"Hello\"\n",
    "my_int = 123\n",
    "print(str(my_string) + \" \" + str(my_int))"
   ]
  },
  {
   "cell_type": "code",
   "execution_count": 13,
   "id": "31096615-e3a5-4d2b-8768-f7f7986ba9c8",
   "metadata": {},
   "outputs": [
    {
     "name": "stdin",
     "output_type": "stream",
     "text": [
      "Enter the first number:  1\n",
      "Enter the second number:  2\n"
     ]
    },
    {
     "name": "stdout",
     "output_type": "stream",
     "text": [
      "Result: 2.0\n"
     ]
    }
   ],
   "source": [
    "num1 = input(\"Enter the first number: \")\n",
    "num2 = input(\"Enter the second number: \")\n",
    "result = float(num1) * float(num2)\n",
    "print(\"Result:\", result)"
   ]
  },
  {
   "cell_type": "code",
   "execution_count": 14,
   "id": "2c97a37f-98c5-4062-a909-7aed294f2d72",
   "metadata": {},
   "outputs": [
    {
     "name": "stdout",
     "output_type": "stream",
     "text": [
      "-1\n"
     ]
    }
   ],
   "source": [
    "print(\"AAA\".find(\"a\"))"
   ]
  },
  {
   "cell_type": "code",
   "execution_count": 15,
   "id": "6d987a20-1b53-4e69-ab7c-31f26241243c",
   "metadata": {},
   "outputs": [
    {
     "name": "stdout",
     "output_type": "stream",
     "text": [
      "Somebody yaid yomething to Samantha.\n"
     ]
    }
   ],
   "source": [
    "print(\"Somebody said something to Samantha.\".replace(\"s\", \"y\"))"
   ]
  },
  {
   "cell_type": "code",
   "execution_count": 16,
   "id": "204208a3-6dd8-4a83-9611-4ef22a8f4ecd",
   "metadata": {},
   "outputs": [
    {
     "name": "stdin",
     "output_type": "stream",
     "text": [
      "Enter a string:  3\n",
      "Enter a letter to find:  a\n"
     ]
    },
    {
     "name": "stdout",
     "output_type": "stream",
     "text": [
      "Index: -1\n"
     ]
    }
   ],
   "source": [
    "user_input = input(\"Enter a string: \")\n",
    "letter = input(\"Enter a letter to find: \")\n",
    "print(\"Index:\", user_input.find(letter))"
   ]
  },
  {
   "cell_type": "code",
   "execution_count": null,
   "id": "3665a7bd-8600-47a4-9bf7-32cf8d655411",
   "metadata": {},
   "outputs": [],
   "source": []
  }
 ],
 "metadata": {
  "kernelspec": {
   "display_name": "Python 3 (ipykernel)",
   "language": "python",
   "name": "python3"
  },
  "language_info": {
   "codemirror_mode": {
    "name": "ipython",
    "version": 3
   },
   "file_extension": ".py",
   "mimetype": "text/x-python",
   "name": "python",
   "nbconvert_exporter": "python",
   "pygments_lexer": "ipython3",
   "version": "3.13.5"
  }
 },
 "nbformat": 4,
 "nbformat_minor": 5
}
