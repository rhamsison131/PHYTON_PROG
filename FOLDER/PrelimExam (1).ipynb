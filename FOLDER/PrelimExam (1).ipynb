{
 "cells": [
  {
   "cell_type": "code",
   "execution_count": 1,
   "id": "4de3bac8-453f-45f0-a555-814216cba833",
   "metadata": {},
   "outputs": [
    {
     "name": "stdin",
     "output_type": "stream",
     "text": [
      "Enter your name:  Rham\n"
     ]
    },
    {
     "name": "stdout",
     "output_type": "stream",
     "text": [
      "Hello Rham\n"
     ]
    }
   ],
   "source": [
    "#1\n",
    "name=input(\"Enter your name: \")\n",
    "print(\"Hello\", name)"
   ]
  },
  {
   "cell_type": "code",
   "execution_count": 2,
   "id": "c0bc8b75-3e22-4439-a9b4-5ab2bd9ae31e",
   "metadata": {},
   "outputs": [
    {
     "name": "stdin",
     "output_type": "stream",
     "text": [
      "Enter a positive integer:  3\n"
     ]
    },
    {
     "name": "stdout",
     "output_type": "stream",
     "text": [
      "Sum form 1 to 3 is 2\n"
     ]
    }
   ],
   "source": [
    "#2\n",
    "n= int(input(\"Enter a positive integer: \"))\n",
    "s = int (n+1) // 2\n",
    "print(\"Sum form 1 to\",n ,\"is\",s)"
   ]
  },
  {
   "cell_type": "code",
   "execution_count": 3,
   "id": "0d1ba756-1a9b-44e4-b656-a83cf1597953",
   "metadata": {},
   "outputs": [
    {
     "name": "stdin",
     "output_type": "stream",
     "text": [
      "Enter a word:  form\n"
     ]
    },
    {
     "name": "stdout",
     "output_type": "stream",
     "text": [
      "Not a palindrome\n"
     ]
    }
   ],
   "source": [
    "#4\n",
    "4.\n",
    "def is_palindrome(text: str) -> bool:\n",
    "    cleaned = ''.join(char.lower() for char in text if char.isalnum())\n",
    "    return cleaned == cleaned[::-1]\n",
    "\n",
    "word = input(\"Enter a word: \")\n",
    "if is_palindrome(word):\n",
    "    print(\"Yeah, it's a Palindrome\")\n",
    "else:\n",
    "    print(\"Not a palindrome\")"
   ]
  },
  {
   "cell_type": "code",
   "execution_count": null,
   "id": "bb58fe84-b64e-4af7-8051-e32e47805634",
   "metadata": {},
   "outputs": [],
   "source": []
  }
 ],
 "metadata": {
  "kernelspec": {
   "display_name": "Python 3 (ipykernel)",
   "language": "python",
   "name": "python3"
  },
  "language_info": {
   "codemirror_mode": {
    "name": "ipython",
    "version": 3
   },
   "file_extension": ".py",
   "mimetype": "text/x-python",
   "name": "python",
   "nbconvert_exporter": "python",
   "pygments_lexer": "ipython3",
   "version": "3.13.5"
  }
 },
 "nbformat": 4,
 "nbformat_minor": 5
}
