{
 "cells": [
  {
   "cell_type": "code",
   "execution_count": 1,
   "id": "6cb2190d-a1d3-4390-a05f-c749fd9add3a",
   "metadata": {},
   "outputs": [
    {
     "name": "stdout",
     "output_type": "stream",
     "text": [
      "True\n",
      "False\n",
      "True\n",
      "True\n",
      "True\n",
      "False\n"
     ]
    }
   ],
   "source": [
    "print(1 <= 1)\n",
    "print(1 != 1)\n",
    "print(1 <= 2)\n",
    "print('good' != 'bad')\n",
    "print('good' != 'Good')\n",
    "print(123 == '123')"
   ]
  },
  {
   "cell_type": "code",
   "execution_count": 2,
   "id": "0e066737-5bb5-46fa-be23-ea36558840cc",
   "metadata": {},
   "outputs": [
    {
     "name": "stdout",
     "output_type": "stream",
     "text": [
      "True\n",
      "True\n",
      "True\n",
      "True\n"
     ]
    }
   ],
   "source": [
    "print(3 < 4)\n",
    "print(10 > 5)\n",
    "print('jack' != 'jill')\n",
    "print(42 != '42')"
   ]
  },
  {
   "cell_type": "code",
   "execution_count": 3,
   "id": "a89003a2-d02c-49b6-a48a-fff158a96f03",
   "metadata": {},
   "outputs": [
    {
     "name": "stdout",
     "output_type": "stream",
     "text": [
      "False\n",
      "False\n",
      "True\n",
      "False\n"
     ]
    }
   ],
   "source": [
    "print((1 <= 1) and (1 != 1))\n",
    "print(not (1 != 2))\n",
    "print(('good' != 'bad') or False)\n",
    "print(('good' != 'Good') and not (1 == 1))"
   ]
  },
  {
   "cell_type": "code",
   "execution_count": 4,
   "id": "96f3c2ee-6b74-4b2c-8cfe-d73b4825f185",
   "metadata": {},
   "outputs": [
    {
     "name": "stdout",
     "output_type": "stream",
     "text": [
      "True\n",
      "True\n",
      "True\n"
     ]
    }
   ],
   "source": [
    "print(False == (not True))\n",
    "print((True and False) == (True and False))\n",
    "print(not (True and 'A' == 'B'))\n"
   ]
  },
  {
   "cell_type": "code",
   "execution_count": 5,
   "id": "8385d139-6168-4c6a-986f-b684db28d332",
   "metadata": {},
   "outputs": [
    {
     "name": "stdin",
     "output_type": "stream",
     "text": [
      "Enter a word:  dada\n"
     ]
    },
    {
     "name": "stdout",
     "output_type": "stream",
     "text": [
      "dada is less than 5.\n"
     ]
    }
   ],
   "source": [
    "n = input('Enter a word: ')\n",
    "word_length = len(n)\n",
    "if word_length < 5: print(f'{n} is less than 5.')   \n",
    "elif word_length > 5: print(f'{n} is greater than 5.')\n",
    "else: print(f'{n} is equal to 5.')"
   ]
  },
  {
   "cell_type": "code",
   "execution_count": 6,
   "id": "f2d18add-ddbc-4e68-a0d1-647f6c0fd37f",
   "metadata": {},
   "outputs": [
    {
     "name": "stdin",
     "output_type": "stream",
     "text": [
      "Input something:  hi\n",
      "Input something:  hello\n",
      "Input something:  as\n",
      "Input something:  d\n",
      "Input something:  asd\n",
      "Input something:  Q\n"
     ]
    }
   ],
   "source": [
    "while True:\n",
    "    user_input = input('Input something: ')\n",
    "    if (user_input == 'q') or (user_input == 'Q'): break"
   ]
  },
  {
   "cell_type": "code",
   "execution_count": 7,
   "id": "f5bf2d5d-2851-45bd-87b0-8aaf8b364615",
   "metadata": {},
   "outputs": [
    {
     "name": "stdout",
     "output_type": "stream",
     "text": [
      "3\n",
      "6\n",
      "9\n",
      "12\n",
      "15\n",
      "18\n",
      "21\n",
      "24\n",
      "27\n",
      "30\n",
      "33\n",
      "36\n",
      "39\n",
      "42\n",
      "45\n",
      "48\n"
     ]
    }
   ],
   "source": [
    "for n in range(1,51):\n",
    "    if n % 3:\n",
    "        continue\n",
    "    print(f'{n}')"
   ]
  },
  {
   "cell_type": "code",
   "execution_count": 8,
   "id": "850d1577-389d-4a85-899b-c85246b7ce43",
   "metadata": {},
   "outputs": [
    {
     "name": "stdin",
     "output_type": "stream",
     "text": [
      "Input an integer:  2\n"
     ]
    },
    {
     "name": "stdout",
     "output_type": "stream",
     "text": [
      "You input: 2\n"
     ]
    }
   ],
   "source": [
    "while True:\n",
    "    try:\n",
    "        prompt = input('Input an integer: ')\n",
    "        if int(prompt).is_integer(): \n",
    "            print(f'You input: {prompt}')\n",
    "            break\n",
    "        else: print('Oops! Please try again.')\n",
    "    except ValueError: print('Please try again.')\n"
   ]
  },
  {
   "cell_type": "code",
   "execution_count": 9,
   "id": "71d22480-5f1b-4a26-8f2e-cec9e32c5a29",
   "metadata": {},
   "outputs": [
    {
     "name": "stdin",
     "output_type": "stream",
     "text": [
      "Enter a word:  hi\n",
      "Enter an integer:  2\n"
     ]
    },
    {
     "name": "stdout",
     "output_type": "stream",
     "text": [
      "Oops! Please check if you entered an integer and try again.\n"
     ]
    },
    {
     "name": "stdin",
     "output_type": "stream",
     "text": [
      "Enter a word:  hi\n",
      "Enter an integer:  1\n"
     ]
    },
    {
     "name": "stdout",
     "output_type": "stream",
     "text": [
      "The letter at index 1 is i\n"
     ]
    }
   ],
   "source": [
    "while True:\n",
    "    try:\n",
    "        word = input('Enter a word: ')\n",
    "        n = input('Enter an integer: ')\n",
    "        print(f'The letter at index {n} is {word[int(n)]}')\n",
    "        break\n",
    "    except: print('Oops! Please check if you entered an integer and try again.')\n"
   ]
  },
  {
   "cell_type": "code",
   "execution_count": 10,
   "id": "adfc1699-a822-4787-bd08-09f1f0587bf0",
   "metadata": {},
   "outputs": [
    {
     "data": {
      "text/plain": [
       "4"
      ]
     },
     "execution_count": 10,
     "metadata": {},
     "output_type": "execute_result"
    }
   ],
   "source": [
    "import random\n",
    "def roll():\n",
    "    return random.randint(1,6)\n",
    "roll()"
   ]
  },
  {
   "cell_type": "code",
   "execution_count": 11,
   "id": "08b2abd1-809e-4ed0-af81-1cb7e07879ac",
   "metadata": {},
   "outputs": [
    {
     "ename": "SyntaxError",
     "evalue": "invalid syntax (3973017140.py, line 9)",
     "output_type": "error",
     "traceback": [
      "\u001b[1;36m  Cell \u001b[1;32mIn[11], line 9\u001b[1;36m\u001b[0m\n\u001b[1;33m    CHALLENGE: SIMULATE AN ELECTION\u001b[0m\n\u001b[1;37m                        ^\u001b[0m\n\u001b[1;31mSyntaxError\u001b[0m\u001b[1;31m:\u001b[0m invalid syntax\n"
     ]
    }
   ],
   "source": [
    "import random\n",
    "\n",
    "total = 0\n",
    "for _ in range(10_000):\n",
    "    total += random.randint(1,6) \n",
    "average = total / 10_000\n",
    "print(f'Average: {average:.1f}')\n",
    "\n",
    "\n",
    "import random\n",
    "\n",
    "simulation = 100_000\n",
    "wins = 0\n",
    "\n",
    "for _ in range(simulation):\n",
    "    regions = 0\n",
    "    if random.random() < 0.87: regions += 1\n",
    "    if random.random() < 0.65: regions += 1\n",
    "    if random.random() < 0.17: regions += 1\n",
    "    if regions >= 2: wins += 1\n",
    "print(f'Estimated probability that Candidate A wins is {wins / simulation:.2%}.')"
   ]
  },
  {
   "cell_type": "code",
   "execution_count": null,
   "id": "1dd58811-810b-4066-b047-ac4119f44f04",
   "metadata": {},
   "outputs": [],
   "source": []
  }
 ],
 "metadata": {
  "kernelspec": {
   "display_name": "Python 3 (ipykernel)",
   "language": "python",
   "name": "python3"
  },
  "language_info": {
   "codemirror_mode": {
    "name": "ipython",
    "version": 3
   },
   "file_extension": ".py",
   "mimetype": "text/x-python",
   "name": "python",
   "nbconvert_exporter": "python",
   "pygments_lexer": "ipython3",
   "version": "3.13.5"
  }
 },
 "nbformat": 4,
 "nbformat_minor": 5
}
